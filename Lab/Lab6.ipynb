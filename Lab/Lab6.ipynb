{
  "cells": [
    {
      "cell_type": "markdown",
      "metadata": {
        "id": "8pEm4kxLqhN7"
      },
      "source": [
        "Make sure you remove `raise NotImplementedError()` and fill in any place that says `# YOUR CODE HERE`, as well as your `NAME`, `ID`, and `SECTION` below:"
      ]
    },
    {
      "cell_type": "code",
      "execution_count": 1,
      "metadata": {
        "id": "N6FXZz_eqhN9"
      },
      "outputs": [],
      "source": [
        "NAME = \"MD IBRAHIM ALIF\"\n",
        "ID = \"22101221\"\n",
        "SECTION = \"14\""
      ]
    },
    {
      "cell_type": "markdown",
      "metadata": {
        "id": "D1WB3NXNqhN-"
      },
      "source": [
        "---"
      ]
    },
    {
      "cell_type": "markdown",
      "metadata": {
        "deletable": false,
        "editable": false,
        "id": "8BwuBD__qhN-",
        "nbgrader": {
          "cell_type": "markdown",
          "checksum": "4323c48f5d5276b38804080cab43e0d5",
          "grade": false,
          "grade_id": "title",
          "locked": true,
          "schema_version": 3,
          "solution": false,
          "task": false
        }
      },
      "source": [
        "Part 1: Polynomial Root Finding Using Bisection Method\n",
        "---\n",
        "\n",
        "### `pandas` Dataframe:\n",
        "Before we start we will know a little about `pandas` dataframe. `pandas` is a python library. Dataframes are classes that are used to store complex data. You can initialize one as a python dictionary. Let's take a look."
      ]
    },
    {
      "cell_type": "code",
      "execution_count": 2,
      "metadata": {
        "colab": {
          "base_uri": "https://localhost:8080/",
          "height": 300
        },
        "deletable": false,
        "editable": false,
        "id": "F1iPegcMqhN-",
        "nbgrader": {
          "cell_type": "code",
          "checksum": "adc6b91c35993f4ecedcfd53d807a206",
          "grade": false,
          "grade_id": "pd",
          "locked": true,
          "schema_version": 3,
          "solution": false,
          "task": false
        },
        "outputId": "2b032062-37d2-4666-8f7d-9d57a1cd5fa8"
      },
      "outputs": [
        {
          "data": {
            "text/html": [
              "<div>\n",
              "<style scoped>\n",
              "    .dataframe tbody tr th:only-of-type {\n",
              "        vertical-align: middle;\n",
              "    }\n",
              "\n",
              "    .dataframe tbody tr th {\n",
              "        vertical-align: top;\n",
              "    }\n",
              "\n",
              "    .dataframe thead th {\n",
              "        text-align: right;\n",
              "    }\n",
              "</style>\n",
              "<table border=\"1\" class=\"dataframe\">\n",
              "  <thead>\n",
              "    <tr style=\"text-align: right;\">\n",
              "      <th></th>\n",
              "      <th>x</th>\n",
              "      <th>y</th>\n",
              "    </tr>\n",
              "  </thead>\n",
              "  <tbody>\n",
              "    <tr>\n",
              "      <th>0</th>\n",
              "      <td>0</td>\n",
              "      <td>1.0</td>\n",
              "    </tr>\n",
              "    <tr>\n",
              "      <th>1</th>\n",
              "      <td>1</td>\n",
              "      <td>5.2</td>\n",
              "    </tr>\n",
              "    <tr>\n",
              "      <th>2</th>\n",
              "      <td>2</td>\n",
              "      <td>3.9</td>\n",
              "    </tr>\n",
              "    <tr>\n",
              "      <th>3</th>\n",
              "      <td>3</td>\n",
              "      <td>8.4</td>\n",
              "    </tr>\n",
              "    <tr>\n",
              "      <th>4</th>\n",
              "      <td>4</td>\n",
              "      <td>14.6</td>\n",
              "    </tr>\n",
              "    <tr>\n",
              "      <th>5</th>\n",
              "      <td>5</td>\n",
              "      <td>12.3</td>\n",
              "    </tr>\n",
              "    <tr>\n",
              "      <th>6</th>\n",
              "      <td>6</td>\n",
              "      <td>8.9</td>\n",
              "    </tr>\n",
              "    <tr>\n",
              "      <th>7</th>\n",
              "      <td>7</td>\n",
              "      <td>10.2</td>\n",
              "    </tr>\n",
              "  </tbody>\n",
              "</table>\n",
              "</div>"
            ],
            "text/plain": [
              "   x     y\n",
              "0  0   1.0\n",
              "1  1   5.2\n",
              "2  2   3.9\n",
              "3  3   8.4\n",
              "4  4  14.6\n",
              "5  5  12.3\n",
              "6  6   8.9\n",
              "7  7  10.2"
            ]
          },
          "execution_count": 2,
          "metadata": {},
          "output_type": "execute_result"
        }
      ],
      "source": [
        "import pandas as pd\n",
        "\n",
        "x = [0, 1, 2, 3, 4, 5, 6, 7]\n",
        "y = [1.0, 5.2, 3.9, 8.4, 14.6, 12.3, 8.9, 10.2]\n",
        "\n",
        "dictionary = {\n",
        "    \"x\": x,\n",
        "    \"y\": y,\n",
        "}\n",
        "df = pd.DataFrame(dictionary)\n",
        "df.head(8)"
      ]
    },
    {
      "cell_type": "markdown",
      "metadata": {
        "deletable": false,
        "editable": false,
        "id": "o1qgr3HYqhN_",
        "nbgrader": {
          "cell_type": "markdown",
          "checksum": "e8de09a00f2f32f8cfbb6b7823ebb992",
          "grade": false,
          "grade_id": "np_into",
          "locked": true,
          "schema_version": 3,
          "solution": false,
          "task": false
        }
      },
      "source": [
        "We can use it to print data in a tabular format. We can even use more numpy arrays with it."
      ]
    },
    {
      "cell_type": "code",
      "execution_count": 3,
      "metadata": {
        "colab": {
          "base_uri": "https://localhost:8080/",
          "height": 520
        },
        "deletable": false,
        "editable": false,
        "id": "gT5eXzSxqhN_",
        "nbgrader": {
          "cell_type": "code",
          "checksum": "b7b72bb172e2e46389ca4f41fd18628d",
          "grade": false,
          "grade_id": "np",
          "locked": true,
          "schema_version": 3,
          "solution": false,
          "task": false
        },
        "outputId": "550f5cbf-2a35-4ea2-a3ad-6a766e991e5a"
      },
      "outputs": [
        {
          "data": {
            "text/html": [
              "<div>\n",
              "<style scoped>\n",
              "    .dataframe tbody tr th:only-of-type {\n",
              "        vertical-align: middle;\n",
              "    }\n",
              "\n",
              "    .dataframe tbody tr th {\n",
              "        vertical-align: top;\n",
              "    }\n",
              "\n",
              "    .dataframe thead th {\n",
              "        text-align: right;\n",
              "    }\n",
              "</style>\n",
              "<table border=\"1\" class=\"dataframe\">\n",
              "  <thead>\n",
              "    <tr style=\"text-align: right;\">\n",
              "      <th></th>\n",
              "      <th>x</th>\n",
              "      <th>sin(x)</th>\n",
              "    </tr>\n",
              "  </thead>\n",
              "  <tbody>\n",
              "    <tr>\n",
              "      <th>0</th>\n",
              "      <td>0.000000</td>\n",
              "      <td>0.000000</td>\n",
              "    </tr>\n",
              "    <tr>\n",
              "      <th>1</th>\n",
              "      <td>0.112200</td>\n",
              "      <td>0.111964</td>\n",
              "    </tr>\n",
              "    <tr>\n",
              "      <th>2</th>\n",
              "      <td>0.224399</td>\n",
              "      <td>0.222521</td>\n",
              "    </tr>\n",
              "    <tr>\n",
              "      <th>3</th>\n",
              "      <td>0.336599</td>\n",
              "      <td>0.330279</td>\n",
              "    </tr>\n",
              "    <tr>\n",
              "      <th>4</th>\n",
              "      <td>0.448799</td>\n",
              "      <td>0.433884</td>\n",
              "    </tr>\n",
              "    <tr>\n",
              "      <th>5</th>\n",
              "      <td>0.560999</td>\n",
              "      <td>0.532032</td>\n",
              "    </tr>\n",
              "    <tr>\n",
              "      <th>6</th>\n",
              "      <td>0.673198</td>\n",
              "      <td>0.623490</td>\n",
              "    </tr>\n",
              "    <tr>\n",
              "      <th>7</th>\n",
              "      <td>0.785398</td>\n",
              "      <td>0.707107</td>\n",
              "    </tr>\n",
              "    <tr>\n",
              "      <th>8</th>\n",
              "      <td>0.897598</td>\n",
              "      <td>0.781831</td>\n",
              "    </tr>\n",
              "    <tr>\n",
              "      <th>9</th>\n",
              "      <td>1.009798</td>\n",
              "      <td>0.846724</td>\n",
              "    </tr>\n",
              "    <tr>\n",
              "      <th>10</th>\n",
              "      <td>1.121997</td>\n",
              "      <td>0.900969</td>\n",
              "    </tr>\n",
              "    <tr>\n",
              "      <th>11</th>\n",
              "      <td>1.234197</td>\n",
              "      <td>0.943883</td>\n",
              "    </tr>\n",
              "    <tr>\n",
              "      <th>12</th>\n",
              "      <td>1.346397</td>\n",
              "      <td>0.974928</td>\n",
              "    </tr>\n",
              "    <tr>\n",
              "      <th>13</th>\n",
              "      <td>1.458597</td>\n",
              "      <td>0.993712</td>\n",
              "    </tr>\n",
              "    <tr>\n",
              "      <th>14</th>\n",
              "      <td>1.570796</td>\n",
              "      <td>1.000000</td>\n",
              "    </tr>\n",
              "  </tbody>\n",
              "</table>\n",
              "</div>"
            ],
            "text/plain": [
              "           x    sin(x)\n",
              "0   0.000000  0.000000\n",
              "1   0.112200  0.111964\n",
              "2   0.224399  0.222521\n",
              "3   0.336599  0.330279\n",
              "4   0.448799  0.433884\n",
              "5   0.560999  0.532032\n",
              "6   0.673198  0.623490\n",
              "7   0.785398  0.707107\n",
              "8   0.897598  0.781831\n",
              "9   1.009798  0.846724\n",
              "10  1.121997  0.900969\n",
              "11  1.234197  0.943883\n",
              "12  1.346397  0.974928\n",
              "13  1.458597  0.993712\n",
              "14  1.570796  1.000000"
            ]
          },
          "execution_count": 3,
          "metadata": {},
          "output_type": "execute_result"
        }
      ],
      "source": [
        "import numpy as np\n",
        "\n",
        "x = np.linspace(0, np.pi/2, 15)\n",
        "y = np.sin(x)\n",
        "\n",
        "dictionary = {\n",
        "    \"x\": x,\n",
        "    \"sin(x)\": y,\n",
        "}\n",
        "df = pd.DataFrame(dictionary)\n",
        "df.head(15)"
      ]
    },
    {
      "cell_type": "markdown",
      "metadata": {
        "deletable": false,
        "editable": false,
        "id": "2LJFoJfEqhN_",
        "nbgrader": {
          "cell_type": "markdown",
          "checksum": "2e1c412437306d2e9b0078176867e80c",
          "grade": false,
          "grade_id": "root_intro",
          "locked": true,
          "schema_version": 3,
          "solution": false,
          "task": false
        }
      },
      "source": [
        "### Root Finding:\n",
        "Let $f(x)$ be a function of $x$. if for some $x=\\alpha, f(x) = f(\\alpha) = 0$, we say $\\alpha$ is a root of function $x$.\n",
        "\n",
        "Let,\n",
        "$$f(x) = x^5 + 2.5x^4 - 2x^3 -6x^2 + 0.5x + 2\\tag{6.1}$$\n",
        "\n",
        "The graph of $f(x)$ looks like this."
      ]
    },
    {
      "cell_type": "code",
      "execution_count": 4,
      "metadata": {
        "colab": {
          "base_uri": "https://localhost:8080/",
          "height": 447
        },
        "deletable": false,
        "editable": false,
        "id": "iiIEjH97qhN_",
        "nbgrader": {
          "cell_type": "code",
          "checksum": "023d32066c1625932a80604228bac0d6",
          "grade": false,
          "grade_id": "example",
          "locked": true,
          "schema_version": 3,
          "solution": false,
          "task": false
        },
        "outputId": "67a167dc-6f4a-49b9-920d-d32d53c3d07d"
      },
      "outputs": [
        {
          "name": "stdout",
          "output_type": "stream",
          "text": [
            "[-2.22027583 -1.61803399 -0.65499178  0.61803399  1.37526761]\n"
          ]
        },
        {
          "data": {
            "image/png": "[encoded data removed]",
            "text/plain": [
              "<Figure size 640x480 with 1 Axes>"
            ]
          },
          "metadata": {},
          "output_type": "display_data"
        }
      ],
      "source": [
        "from numpy.polynomial import Polynomial\n",
        "import matplotlib.pyplot as plt\n",
        "\n",
        "f = Polynomial([2.0, 0.5, -6.0, -2.0, 2.5, 1.0])\n",
        "x = np.linspace(-2.5, 1.5, 100)\n",
        "y = f(x)\n",
        "dictionary = {\n",
        "    'x': x,\n",
        "    'y': y\n",
        "}\n",
        "plt.axhline(y=0, color='r')\n",
        "plt.plot(x, y,'y')\n",
        "plt.plot(f.roots(), [0.0]*5, 'go')\n",
        "print(f.roots())"
      ]
    },
    {
      "cell_type": "markdown",
      "metadata": {
        "deletable": false,
        "editable": false,
        "id": "ZDBo-CT3qhOA",
        "nbgrader": {
          "cell_type": "markdown",
          "checksum": "a77a2920b884f394a02829392b097131",
          "grade": false,
          "grade_id": "bisection_intro",
          "locked": true,
          "schema_version": 3,
          "solution": false,
          "task": false
        }
      },
      "source": [
        "Roots are the points where the graph intersects with the $X$-axis.\n",
        "\n",
        "### Bisection\n",
        "\n",
        "One way to find out root's are to use bisection method. Here is the strategy, if $\\alpha$ is a root between and interval $[a, b]$ then graph will cross the $X$-axis at $\\alpha$. So, $sign( f(\\alpha-h) ) = - sign( f(\\alpha+h) )$, for small value of $h$.\n",
        "\n",
        "So, we can work our way up towards the root by taking average of $a$ and $b$, as long as the signs are different.\n",
        "\n",
        "we will start with $a_0$ and $b_0$, such that, $f(a_0) f(b_0) < 0$.\n",
        "Then we iterate as this,\n",
        "\\begin{align}\n",
        "m_k &= \\frac{a_k + b_k}{2} \\\\\n",
        "\\text{if, } f(a_k) f(m_k) < 0, \\text{ then, } a_{k+1} &= a_k \\text{ and } b_{k+1} = m_k\\\\\n",
        "\\text{else, } a_{k+1} &= m_k \\text{ and, } b_{k+1} = b_k\n",
        "\\end{align}\n",
        "\n",
        "We keep iterating until we find the root with sufficient precision. We usually use a formula like this,\n",
        "$$\n",
        "\\frac{|m_{k+1} - m_k|}{|m_{k+1}|} \\leq \\epsilon \\\\  \n",
        "$$\n",
        "Where, $\\epsilon$ is a very small value, like $\\epsilon < 10^{-6}$\n",
        "\n",
        "### Complete the code below\n",
        "Complete the code below to iterate and solve for a root of the following equation, between the interval, $[-0.5, 1.3]$:\n",
        "\\begin{aligned}\n",
        "    f(x) = 2 + 0.5x - 6x^2 - 2x^3 + 2.5x^4 + x^5.\n",
        "\\end{aligned}"
      ]
    },
    {
      "cell_type": "code",
      "execution_count": 5,
      "metadata": {
        "colab": {
          "base_uri": "https://localhost:8080/"
        },
        "deletable": false,
        "id": "vcMvvqN4qhOA",
        "nbgrader": {
          "cell_type": "code",
          "checksum": "250514194ec182b83282f90c837cb559",
          "grade": false,
          "grade_id": "ans",
          "locked": false,
          "schema_version": 3,
          "solution": true,
          "task": false
        },
        "outputId": "2f1be043-8732-466c-840d-34a85c6fb86d"
      },
      "outputs": [
        {
          "name": "stdout",
          "output_type": "stream",
          "text": [
            "[-0.5, 0.4, 0.4, 0.4, 0.5125, 0.56875, 0.596875, 0.6109375, 0.61796875, 0.61796875, 0.61796875, 0.61796875, 0.61796875, 0.61796875, 0.61796875, 0.6180236816406249, 0.6180236816406249, 0.6180236816406249, 0.6180305480957031, 0.6180339813232422, 0.6180339813232422, 0.6180339813232422]\n",
            "[1.3, 1.3, 0.8500000000000001, 0.625, 0.625, 0.625, 0.625, 0.625, 0.625, 0.621484375, 0.6197265624999999, 0.6188476562499999, 0.618408203125, 0.6181884765625, 0.6180786132812499, 0.6180786132812499, 0.6180511474609374, 0.6180374145507812, 0.6180374145507812, 0.6180374145507812, 0.6180356979370116, 0.618034839630127]\n",
            "[0.4, 0.8500000000000001, 0.625, 0.5125, 0.56875, 0.596875, 0.6109375, 0.61796875, 0.621484375, 0.6197265624999999, 0.6188476562499999, 0.618408203125, 0.6181884765625, 0.6180786132812499, 0.6180236816406249, 0.6180511474609374, 0.6180374145507812, 0.6180305480957031, 0.6180339813232422, 0.6180356979370116, 0.618034839630127, 0.6180344104766846]\n",
            "[1.1862399999999997, -1.3895290624999999, -0.042694091796875, 0.6189171145629886, 0.296666094312668, 0.12865234671562864, 0.04333223005152309, 0.0003991260005138386, -0.02112851390236603, -0.0103598202478703, -0.004979112336363389, -0.002289682430285822, -0.0009452002756487055, -0.00027301762092113435, 6.305907293624458e-05, -0.00010497805370457414, -2.0959185250468693e-05, 2.1050020133639435e-05, 4.543651344057764e-08, -1.0456869599995144e-05, -5.205715352119e-06, -2.580139121466374e-06]\n"
          ]
        }
      ],
      "source": [
        "import numpy as np\n",
        "import pandas as pd\n",
        "import matplotlib.pyplot as plt\n",
        "from numpy.polynomial import Polynomial\n",
        "\n",
        "# The polynomial and the range is defined for you\n",
        "f = Polynomial([2.0, 0.5, -6.0, -2.0, 2.5, 1.0])\n",
        "a = -0.5\n",
        "b = 1.3\n",
        "m = (a + b) / 2\n",
        "e = 1e-6\n",
        "\n",
        "root = 0.0    # You need to update this value\n",
        "\n",
        "# Populate the following lists in each iteration\n",
        "list_a = []\n",
        "list_b = []\n",
        "list_m = []\n",
        "list_f = []\n",
        "\n",
        "# YOUR CODE HERE\n",
        "while True:\n",
        "    list_a.append(a)\n",
        "    list_b.append(b)\n",
        "    list_m.append(m)\n",
        "    list_f.append(f(m))\n",
        "    if abs(m - root) / abs(m) < e:\n",
        "        break\n",
        "    if f(a) * f(m) < 0:\n",
        "        b = m\n",
        "    else:\n",
        "        a = m\n",
        "    root = m\n",
        "    m = (a + b) / 2\n",
        "\n",
        "print(f\"{list_a}\\n{list_b}\\n{list_m}\\n{list_f}\")"
      ]
    },
    {
      "cell_type": "code",
      "execution_count": 6,
      "metadata": {
        "deletable": false,
        "editable": false,
        "id": "n80r3n_4qhOB",
        "nbgrader": {
          "cell_type": "code",
          "checksum": "62d14c64cdf4fb8a8d96afa669625d11",
          "grade": true,
          "grade_id": "test_0",
          "locked": true,
          "points": 10,
          "schema_version": 3,
          "solution": false,
          "task": false
        }
      },
      "outputs": [],
      "source": [
        "xs = np.linspace(-2.5, 1.5, 100)\n",
        "ys = f(xs)"
      ]
    },
    {
      "cell_type": "code",
      "execution_count": 7,
      "metadata": {
        "colab": {
          "base_uri": "https://localhost:8080/",
          "height": 829
        },
        "deletable": false,
        "editable": false,
        "id": "trVJZs-dqhOB",
        "nbgrader": {
          "cell_type": "code",
          "checksum": "d605d35c8e5cb989a20d59e7bf1dca54",
          "grade": true,
          "grade_id": "test",
          "locked": true,
          "points": 10,
          "schema_version": 3,
          "solution": false,
          "task": false
        },
        "outputId": "c93007a7-9a38-4346-e316-4c39a8ea1277"
      },
      "outputs": [
        {
          "name": "stdout",
          "output_type": "stream",
          "text": [
            "           a         b         m          f(m)\n",
            "0  -0.500000  1.300000  0.400000  1.186240e+00\n",
            "1   0.400000  1.300000  0.850000 -1.389529e+00\n",
            "2   0.400000  0.850000  0.625000 -4.269409e-02\n",
            "3   0.400000  0.625000  0.512500  6.189171e-01\n",
            "4   0.512500  0.625000  0.568750  2.966661e-01\n",
            "5   0.568750  0.625000  0.596875  1.286523e-01\n",
            "6   0.596875  0.625000  0.610938  4.333223e-02\n",
            "7   0.610938  0.625000  0.617969  3.991260e-04\n",
            "8   0.617969  0.625000  0.621484 -2.112851e-02\n",
            "9   0.617969  0.621484  0.619727 -1.035982e-02\n",
            "10  0.617969  0.619727  0.618848 -4.979112e-03\n",
            "11  0.617969  0.618848  0.618408 -2.289682e-03\n",
            "12  0.617969  0.618408  0.618188 -9.452003e-04\n",
            "13  0.617969  0.618188  0.618079 -2.730176e-04\n",
            "14  0.617969  0.618079  0.618024  6.305907e-05\n",
            "15  0.618024  0.618079  0.618051 -1.049781e-04\n",
            "16  0.618024  0.618051  0.618037 -2.095919e-05\n",
            "17  0.618024  0.618037  0.618031  2.105002e-05\n",
            "18  0.618031  0.618037  0.618034  4.543651e-08\n",
            "19  0.618034  0.618037  0.618036 -1.045687e-05\n",
            "20  0.618034  0.618036  0.618035 -5.205715e-06\n",
            "21  0.618034  0.618035  0.618034 -2.580139e-06\n"
          ]
        },
        {
          "data": {
            "image/png": "[encoded data removed]",
            "text/plain": [
              "<Figure size 640x480 with 1 Axes>"
            ]
          },
          "metadata": {},
          "output_type": "display_data"
        }
      ],
      "source": [
        "plt.axhline(y=0, color='r')\n",
        "plt.plot(xs, ys,'y')\n",
        "plt.plot(root, f(root), 'go')\n",
        "\n",
        "print(pd.DataFrame({'a':list_a, 'b':list_b, 'm':list_m, 'f(m)':list_f}))\n",
        "\n",
        "assert \"{:.3f}\".format(root) == \"0.618\""
      ]
    },
    {
      "cell_type": "code",
      "execution_count": null,
      "metadata": {
        "id": "M5kTaH-6qhOC"
      },
      "outputs": [],
      "source": []
    },
    {
      "cell_type": "markdown",
      "metadata": {
        "deletable": false,
        "editable": false,
        "id": "UZSMhHrPJr8w",
        "nbgrader": {
          "cell_type": "markdown",
          "checksum": "29cb42a7b7b359ce0df31faaa15748c5",
          "grade": false,
          "grade_id": "cell-3123123123",
          "locked": true,
          "schema_version": 3,
          "solution": false,
          "task": false
        }
      },
      "source": [
        "# Part 2: Fixed Point Iteration\n",
        "\n",
        "### Fixed point:\n",
        "A number $\\xi$ is called a **fixed point** to function $g(x)$ if $g(\\xi) = \\xi$. Using fixed points are a nice strategy to find roots of an equation. In this method if we are trying to find a root of $f(x) = 0$, we try to write the function in the form, $x = g(x)$. That is,\n",
        "$$\n",
        "f(x) = x - g(x) = 0\n",
        "$$\n",
        "\n",
        "So, if $\\xi$ is a fixed point of $g(x)$ it would also be a root of $f(x)=0$, because,\n",
        "$$\n",
        "f(\\xi) = \\xi - g(\\xi) = \\xi - \\xi = 0\n",
        "$$\n",
        "\n",
        "We can find a suitable $g(x)$ in any number of ways. Not all of them would converge; whereas, some would converge very fast. For example, consider $Eq. 6.1$.\n",
        "\n",
        "\\begin{align}\n",
        "&         &    f(x) &=x^5 + 2.5x^4 - 2x^3 -6x^2 + x + 2 \\\\\n",
        "&\\implies &x - g(x) &=x^5 + 2.5x^4 - 2x^3 -6x^2 + x + 2 \\\\\n",
        "&\\implies &    g(x) &=-x^5 - 2.5x^4 + 2x^3 + 6x^2 - 2 \\tag{6.2}\\\\\n",
        "\\end{align}\n",
        "\n",
        "again,\n",
        "$$\n",
        "f(x) = x^5 + 2.5x^4 - 2x^3 -6x^2 + x + 2 = 0\\\\\n",
        "$$\n",
        "\\begin{align}\n",
        "&\\implies &6x^2 &= x^5 + 2.5x^4 - 2x^3 + x + 2 \\\\\n",
        "&\\implies &x^2  &= \\frac{1}{6}(x^5 + 2.5x^4 - 2x^3 + x + 2)\\\\\n",
        "&\\implies &x    &= \\sqrt{\\frac{1}{6}(x^5 + 2.5x^4 - 2x^3 + x + 2)}\\\\\n",
        "&\\implies &g(x) &= \\sqrt{\\frac{1}{6}(x^5 + 2.5x^4 - 2x^3 + x + 2)}\\tag{6.3}\\\\\n",
        "\\end{align}\n",
        "\n",
        "Similarly,\n",
        "\\begin{align}\n",
        "&         &2.5x^4 &= -x^5 + 2x^3 + 6x^2 - x - 2 \\\\\n",
        "&\\implies &x^4  &= \\frac{1}{2.5}(-x^5 + 2x^3 + 6x^2 - x - 2)\\\\\n",
        "&\\implies &x    &= \\sqrt[\\leftroot{-1}\\uproot{2}\\scriptstyle 4]{\\frac{1}{2.5}(-x^5 + 2x^3 + 6x^2 - x - 2)}\\\\\n",
        "&\\implies &g(x) &= \\sqrt[\\leftroot{-1}\\uproot{2}\\scriptstyle 4]{\\frac{1}{2.5}(-x^5 + 2x^3 + 6x^2 - x - 2)}\\tag{6.4}\\\\\n",
        "\\end{align}\n",
        "\n",
        "### B. Complete the code below\n",
        "For this example we will use a couple of $g(x)$ function to find out which one converges faster."
      ]
    },
    {
      "cell_type": "code",
      "execution_count": 8,
      "metadata": {
        "colab": {
          "base_uri": "https://localhost:8080/"
        },
        "deletable": false,
        "id": "7aY87ZtEJr8w",
        "nbgrader": {
          "cell_type": "code",
          "checksum": "eea775d5231da9918220a769bc5d5d64",
          "grade": false,
          "grade_id": "cell-123123123",
          "locked": false,
          "schema_version": 3,
          "solution": true,
          "task": false
        },
        "outputId": "8d127716-ca55-4a1a-c011-b39f2067382d"
      },
      "outputs": [
        {
          "name": "stdout",
          "output_type": "stream",
          "text": [
            "Iteration stopped at 44\n"
          ]
        }
      ],
      "source": [
        "import numpy as np\n",
        "import pandas as pd\n",
        "import matplotlib.pyplot as plt\n",
        "from numpy.polynomial import Polynomial\n",
        "\n",
        "f = Polynomial([2.0, 1.0, -6.0, -2.0, 2.5, 1.0])\n",
        "g1 = Polynomial([-2.0, 0.0, 6.0, 2.0, -2.5, -1.0])\n",
        "\n",
        "def g2(x):\n",
        "    p = Polynomial([2.0, 1.0, 0.0, -2.0, 2.5, 1.0])\n",
        "    return np.sqrt(p(x)/6)\n",
        "\n",
        "def g3(x):\n",
        "    p = Polynomial([-2.0, -1.0, 6.0, 2.0, 0.0, -1.0])\n",
        "    return np.power(p(x)/2.5, 1.0/4.0)\n",
        "\n",
        "a1 = 0.80\n",
        "g1_a = []\n",
        "\n",
        "a2 = 0.80\n",
        "g2_a = []\n",
        "\n",
        "a3 = 0.80\n",
        "g3_a = []\n",
        "\n",
        "# YOUR CODE HERE\n",
        "g1_a.append(a1)\n",
        "g2_a.append(a2)\n",
        "g3_a.append(a3)\n",
        "for i in range(50):\n",
        "    a1 = g1(a1)\n",
        "    a2 = g2(a2)\n",
        "    a3 = g3(a3)\n",
        "    # print(g1_a[-1],g2_a[-1],g3_a[-1])\n",
        "    if a1==g1_a[-1] and a2==g2_a[-1] and a3==g3_a[-1]:\n",
        "        print(f\"Iteration stopped at {i}\")\n",
        "        break\n",
        "    g1_a.append(a1)\n",
        "    g2_a.append(a2)\n",
        "    g3_a.append(a3)\n",
        "\n",
        "    # when root found, try to less the iteration without getting error\n",
        "# raise NotImplementedError()"
      ]
    },
    {
      "cell_type": "code",
      "execution_count": 9,
      "metadata": {
        "colab": {
          "base_uri": "https://localhost:8080/",
          "height": 1000
        },
        "deletable": false,
        "editable": false,
        "id": "oip1LLFPJr8y",
        "nbgrader": {
          "cell_type": "code",
          "checksum": "6d9d325340af410ea2c95de0b2bbb1bc",
          "grade": true,
          "grade_id": "cell-48808fbb6733431f",
          "locked": true,
          "points": 15,
          "schema_version": 3,
          "solution": false,
          "task": false
        },
        "outputId": "5dea301e-df70-438f-8821-f6f326ef620a"
      },
      "outputs": [
        {
          "name": "stdout",
          "output_type": "stream",
          "text": [
            "       g1(x)     g2(x)    g3(x))\n",
            "0   0.800000  0.800000  0.800000\n",
            "1   1.512320  0.721997  0.912898\n",
            "2  -2.347605  0.688573  1.044444\n",
            "3   0.562201  0.677301  1.160638\n",
            "4  -0.054108  0.673860  1.241682\n",
            "5  -1.982772  0.672844  1.288278\n",
            "6  -1.995936  0.672547  1.311548\n",
            "7  -1.999770  0.672460  1.322205\n",
            "8  -1.999999  0.672435  1.326870\n",
            "9  -2.000000  0.672427  1.328868\n",
            "10 -2.000000  0.672425  1.329716\n",
            "11 -2.000000  0.672425  1.330075\n",
            "12 -2.000000  0.672424  1.330226\n",
            "13 -2.000000  0.672424  1.330290\n",
            "14 -2.000000  0.672424  1.330317\n",
            "15 -2.000000  0.672424  1.330328\n",
            "16 -2.000000  0.672424  1.330333\n",
            "17 -2.000000  0.672424  1.330335\n",
            "18 -2.000000  0.672424  1.330336\n",
            "19 -2.000000  0.672424  1.330336\n",
            "20 -2.000000  0.672424  1.330336\n",
            "21 -2.000000  0.672424  1.330336\n",
            "22 -2.000000  0.672424  1.330336\n",
            "23 -2.000000  0.672424  1.330336\n",
            "24 -2.000000  0.672424  1.330336\n",
            "25 -2.000000  0.672424  1.330336\n",
            "26 -2.000000  0.672424  1.330336\n",
            "27 -2.000000  0.672424  1.330336\n",
            "28 -2.000000  0.672424  1.330336\n",
            "29 -2.000000  0.672424  1.330336\n",
            "30 -2.000000  0.672424  1.330336\n",
            "31 -2.000000  0.672424  1.330336\n",
            "32 -2.000000  0.672424  1.330336\n",
            "33 -2.000000  0.672424  1.330336\n",
            "34 -2.000000  0.672424  1.330336\n",
            "35 -2.000000  0.672424  1.330336\n",
            "36 -2.000000  0.672424  1.330336\n",
            "37 -2.000000  0.672424  1.330336\n",
            "38 -2.000000  0.672424  1.330336\n",
            "39 -2.000000  0.672424  1.330336\n",
            "40 -2.000000  0.672424  1.330336\n",
            "41 -2.000000  0.672424  1.330336\n",
            "42 -2.000000  0.672424  1.330336\n",
            "43 -2.000000  0.672424  1.330336\n",
            "44 -2.000000  0.672424  1.330336\n"
          ]
        },
        {
          "name": "stderr",
          "output_type": "stream",
          "text": [
            "C:\\Users\\ibrah\\AppData\\Local\\Temp\\ipykernel_19420\\3816127965.py:15: RuntimeWarning: invalid value encountered in power\n",
            "  return np.power(p(x)/2.5, 1.0/4.0)\n"
          ]
        },
        {
          "data": {
            "image/png": "[encoded data removed]",
            "text/plain": [
              "<Figure size 640x480 with 1 Axes>"
            ]
          },
          "metadata": {},
          "output_type": "display_data"
        }
      ],
      "source": [
        "xs = np.linspace(-2.3, 1.5, 100)\n",
        "ys = f(xs)\n",
        "dictionary = {\n",
        "    'x': xs,\n",
        "    'y': ys\n",
        "}\n",
        "plt.axhline(y=0, color='r')\n",
        "plt.plot(xs, f(xs), label='f(x)', color='y')\n",
        "plt.plot(xs, g1(xs), label='g1(x)', color='g')\n",
        "plt.plot(xs, g2(xs), label='g2(x)', color ='b')\n",
        "plt.plot(xs, g3(xs), label='g3(x)', color = 'm' )\n",
        "plt.legend()\n",
        "\n",
        "if len(g1_a) > 0:\n",
        "    root = np.array([g1_a[len(g1_a)-1], g2_a[len(g2_a)-1], g3_a[len(g3_a)-1]])\n",
        "    plt.plot(root, f(root), 'ko')\n",
        "\n",
        "print(pd.DataFrame({'g1(x)':g1_a, 'g2(x)':g2_a, 'g3(x))':g3_a,}))\n",
        "\n",
        "# Test case:\n",
        "np.testing.assert_array_almost_equal(root, [-2, 0.67242436, 1.33033625])"
      ]
    },
    {
      "cell_type": "markdown",
      "metadata": {
        "id": "xwzVbN6HIniT"
      },
      "source": [
        "**Problem related to Interval Bisection method:**\n",
        "\n",
        "Consider the following function: f(x) = x^3 + x^2 − 25x − 25.\n",
        "\n",
        "Use interval bisection method to find the root, x∗ of f(x), on the interval [−4, 3], where the error bound, δ = 10^-2."
      ]
    },
    {
      "cell_type": "code",
      "execution_count": 10,
      "metadata": {
        "colab": {
          "base_uri": "https://localhost:8080/",
          "height": 56
        },
        "id": "vKrCKc5vRj1v",
        "outputId": "5deaf0e1-4b29-4700-aa46-6013006100a3"
      },
      "outputs": [
        {
          "name": "stdout",
          "output_type": "stream",
          "text": [
            "Root: -1.005859375\n"
          ]
        },
        {
          "data": {
            "text/latex": [
              "$x \\mapsto \\text{1.0} + \\text{1.0}\\,x - \\text{25.0}\\,x^{2} - \\text{25.0}\\,x^{3}$"
            ],
            "text/plain": [
              "Polynomial([  1.,   1., -25., -25.], domain=[-1,  1], window=[-1,  1], symbol='x')"
            ]
          },
          "execution_count": 10,
          "metadata": {},
          "output_type": "execute_result"
        }
      ],
      "source": [
        "from numpy.polynomial import Polynomial\n",
        "\n",
        "f = Polynomial([1.0,1.0,-25.0,-25])\n",
        "a = -4\n",
        "b = 3\n",
        "m = (a + b) / 2\n",
        "e = 1e-2\n",
        "\n",
        "root = 0.0\n",
        "\n",
        "list_a = []\n",
        "list_b = []\n",
        "list_m = []\n",
        "list_f = []\n",
        "\n",
        "while True:\n",
        "    list_a.append(a)\n",
        "    list_b.append(b)\n",
        "    list_m.append(m)\n",
        "    list_f.append(f(m))\n",
        "    if abs(m - root) / abs(m) < e:\n",
        "        break\n",
        "    if f(a) * f(m) < 0:\n",
        "        b = m\n",
        "    else:\n",
        "        a = m\n",
        "    root = m\n",
        "    m = (a + b) / 2\n",
        "\n",
        "\n",
        "print(f\"Root: {root}\")\n",
        "f"
      ]
    },
    {
      "cell_type": "code",
      "execution_count": 11,
      "metadata": {
        "colab": {
          "base_uri": "https://localhost:8080/",
          "height": 625
        },
        "id": "XL4Trz9qSc5N",
        "outputId": "4e9c0d69-c91f-41da-f421-c225fb0ac05c"
      },
      "outputs": [
        {
          "name": "stdout",
          "output_type": "stream",
          "text": [
            "          a         b         m        f(m)\n",
            "0 -4.000000  3.000000 -0.500000   -2.625000\n",
            "1 -4.000000 -0.500000 -2.250000  156.953125\n",
            "2 -2.250000 -0.500000 -1.375000   17.349609\n",
            "3 -1.375000 -0.500000 -0.937500   -1.310791\n",
            "4 -1.375000 -0.937500 -1.156250    5.066071\n",
            "5 -1.156250 -0.937500 -1.046875    1.237438\n",
            "6 -1.046875 -0.937500 -0.992188   -0.184460\n",
            "7 -1.046875 -0.992188 -1.019531    0.488010\n",
            "8 -1.019531 -0.992188 -1.005859    0.142347\n",
            "9 -1.005859 -0.992188 -0.999023   -0.023390\n"
          ]
        },
        {
          "data": {
            "image/png": "[encoded data removed]",
            "text/plain": [
              "<Figure size 640x480 with 1 Axes>"
            ]
          },
          "metadata": {},
          "output_type": "display_data"
        }
      ],
      "source": [
        "xs = np.linspace(-2.5, 1.5, 100)\n",
        "ys = f(xs)\n",
        "plt.axhline(y=0, color='r')\n",
        "plt.plot(xs, ys,'y')\n",
        "plt.plot(root, f(root), 'go')\n",
        "\n",
        "print(pd.DataFrame({'a':list_a, 'b':list_b, 'm':list_m, 'f(m)':list_f}))"
      ]
    }
  ],
  "metadata": {
    "colab": {
      "provenance": []
    },
    "kernelspec": {
      "display_name": "Python 3",
      "language": "python",
      "name": "python3"
    },
    "language_info": {
      "codemirror_mode": {
        "name": "ipython",
        "version": 3
      },
      "file_extension": ".py",
      "mimetype": "text/x-python",
      "name": "python",
      "nbconvert_exporter": "python",
      "pygments_lexer": "ipython3",
      "version": "3.12.4"
    }
  },
  "nbformat": 4,
  "nbformat_minor": 0
}
